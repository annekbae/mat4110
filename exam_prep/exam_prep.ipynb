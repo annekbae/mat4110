{
 "cells": [
  {
   "cell_type": "markdown",
   "metadata": {},
   "source": [
    "# MAT4110 implemented algorithms"
   ]
  },
  {
   "cell_type": "code",
   "execution_count": 3,
   "metadata": {},
   "outputs": [],
   "source": [
    "import numpy as np"
   ]
  },
  {
   "cell_type": "markdown",
   "metadata": {},
   "source": [
    "## Factorization and decomposition"
   ]
  },
  {
   "cell_type": "markdown",
   "metadata": {},
   "source": [
    "### LU Decomposition"
   ]
  },
  {
   "cell_type": "code",
   "execution_count": 93,
   "metadata": {},
   "outputs": [],
   "source": [
    "def lu_decomposition(mat):\n",
    "    # Implementation of the LU decomposition algorithm for \n",
    "    # nxn matrix.\n",
    "    L = np.zeros(mat.shape)\n",
    "    U = np.zeros(mat.shape)\n",
    "    A = mat.copy()\n",
    "    \n",
    "    for i in range(mat.shape[0]):\n",
    "        # Calculate L, normalized\n",
    "        L[:,i] = (1/A[:,i][i])*A[:,i]\n",
    "        \n",
    "        # Calculate U\n",
    "        U[i,:] = A[i,:]\n",
    "        \n",
    "        # Calculate A_i\n",
    "        A = A - np.outer(L[:,i],U[i,:])\n",
    "        \n",
    "    return L, U"
   ]
  },
  {
   "cell_type": "code",
   "execution_count": 94,
   "metadata": {},
   "outputs": [
    {
     "name": "stdout",
     "output_type": "stream",
     "text": [
      "L\n",
      " [[ 1.         -0.        ]\n",
      " [ 1.66666667  1.        ]] \n",
      "\n",
      "U\n",
      " [[ 3.          4.        ]\n",
      " [ 0.         -0.66666667]] \n",
      "\n",
      "[[3. 4.]\n",
      " [5. 6.]]\n"
     ]
    }
   ],
   "source": [
    "mat = np.array([[3,4],[5,6]])\n",
    "L, U = lu_decomposition(mat)\n",
    "print(\"L\\n\", L, \"\\n\")\n",
    "print(\"U\\n\", U, \"\\n\")\n",
    "print(L.dot(U))\n"
   ]
  },
  {
   "cell_type": "markdown",
   "metadata": {},
   "source": [
    "### Cholesky factorization"
   ]
  },
  {
   "cell_type": "code",
   "execution_count": 95,
   "metadata": {},
   "outputs": [],
   "source": [
    "def cholesky_factorization(A):                               \n",
    "    \"\"\"\n",
    "    Performs cholesky factorization on a positive definite nxn\n",
    "    matrix A.\n",
    "    \"\"\"   \n",
    "    L = np.zeros(A.shape)\n",
    "    D = np.zeros(A.shape)\n",
    "    \n",
    "    for i in range(A.shape[0]):\n",
    "        # Set l_i, D_ii and calculate A_i\n",
    "        L[:,i] = (1/A[i,i])*A[:,i]\n",
    "        D[i,i] = A[i,i]\n",
    "        A = A - D[i,i] * np.outer(L[:,i], L[:,i].T)\n",
    "                                                             \n",
    "    return L, D"
   ]
  },
  {
   "cell_type": "code",
   "execution_count": 96,
   "metadata": {},
   "outputs": [
    {
     "name": "stdout",
     "output_type": "stream",
     "text": [
      "[[1.         0.        ]\n",
      " [1.33333333 1.        ]]\n",
      "[[3.         0.        ]\n",
      " [0.         0.66666667]]\n",
      "[[1.         1.33333333]\n",
      " [0.         1.        ]]\n",
      "[[3. 4.]\n",
      " [4. 6.]]\n"
     ]
    }
   ],
   "source": [
    "mat = np.array([[3,4], [4,6]])\n",
    "L, D = cholesky_factorization(mat)\n",
    "print(L)\n",
    "print(D)\n",
    "print(L.T)\n",
    "print(L.dot(D.dot(L.T)))"
   ]
  },
  {
   "cell_type": "markdown",
   "metadata": {},
   "source": [
    "### QR factorization (Gram-Schmidt)"
   ]
  },
  {
   "cell_type": "code",
   "execution_count": 71,
   "metadata": {},
   "outputs": [],
   "source": [
    "def qr_factorization(A):\n",
    "    \"\"\"\n",
    "    Factorize an n x m non-singular matrix A into two matrices\n",
    "    Q and R such that A = QR, where n >= m\n",
    "    This implementation uses the Gram-Schmidt algorithm.\n",
    "    \"\"\"\n",
    "    Q = np.zeros(A.shape)\n",
    "    R = np.zeros(A.shape)\n",
    "    \n",
    "    # Calculate the rest\n",
    "    for i in range(A.shape[1]):\n",
    "        w = A[:,i]\n",
    "        \n",
    "        for j in range(i):\n",
    "            w = w - Q[:,j].dot(A[:,i])*Q[:,j]\n",
    "        \n",
    "        for j in range(i):\n",
    "            R[j,i] = Q[:,j].dot(A[:,i])\n",
    "        \n",
    "        Q[:,i] = w/np.sqrt(w.dot(w))\n",
    "        R[i,i] = np.sqrt(w.dot(w))\n",
    "    \n",
    "    return Q, R\n",
    "        \n",
    "        \n",
    "    "
   ]
  },
  {
   "cell_type": "code",
   "execution_count": 72,
   "metadata": {},
   "outputs": [
    {
     "name": "stdout",
     "output_type": "stream",
     "text": [
      "Q =\n",
      " [[ 1.  0.  0.]\n",
      " [ 0.  0. -1.]\n",
      " [ 0.  1.  0.]]\n",
      "R =\n",
      " [[ 2.  1. -3.]\n",
      " [ 0.  1.  4.]\n",
      " [ 0.  0.  1.]]\n",
      "QR =\n",
      " [[ 2.  1. -3.]\n",
      " [ 0.  0. -1.]\n",
      " [ 0.  1.  4.]]\n"
     ]
    }
   ],
   "source": [
    "mat = np.array([[2, 1, -3], [0, 0, -1], [0, 1, 4]])\n",
    "Q, R = qr_factorization(mat)\n",
    "print(\"Q =\\n\", Q)\n",
    "print(\"R =\\n\", R)\n",
    "print(\"QR =\\n\", Q.dot(R))"
   ]
  },
  {
   "cell_type": "markdown",
   "metadata": {},
   "source": [
    "### SVD - Singular Value Decomposition"
   ]
  },
  {
   "cell_type": "code",
   "execution_count": null,
   "metadata": {},
   "outputs": [],
   "source": [
    "def svd(A):\n",
    "    \"\"\"\n",
    "    Compute the singular value decomposition of an nxm matrix A,\n",
    "    such that A = USV^T where S contains the singular values.\n",
    "    \"\"\"\n",
    "    n, m = A.shape\n",
    "    U = np.zeros((n,n))\n",
    "    S = np.zeros((n,m))\n",
    "    V = np.zeros((m,m))\n",
    "    \n",
    "    A_T_A = A.T.dot(A)\n",
    "    \n",
    "    "
   ]
  },
  {
   "cell_type": "markdown",
   "metadata": {},
   "source": [
    "## Solving linear systems of equations"
   ]
  },
  {
   "cell_type": "markdown",
   "metadata": {},
   "source": [
    "### Forward substitution"
   ]
  },
  {
   "cell_type": "code",
   "execution_count": 98,
   "metadata": {},
   "outputs": [],
   "source": [
    "def forward_substitution(mat_A, b):                          \n",
    "    \"\"\"                                                      \n",
    "    Apply forward substitution to a lower triangular matrix A\n",
    "    and return the vector x in the matrix equation Ax = b    \n",
    "    \"\"\"                                                      \n",
    "    N = len(mat_A[0])                                        \n",
    "    x = np.zeros(N)                                          \n",
    "    for i in range(N):                                       \n",
    "        sum = 0                                              \n",
    "        for j in range(i):                                   \n",
    "            sum += mat_A[i,j]*x[j]                           \n",
    "        x[i] = (b[i] - sum)/mat_A[i,i]                       \n",
    "    return x                                                 \n"
   ]
  },
  {
   "cell_type": "markdown",
   "metadata": {},
   "source": [
    "### Back substitution"
   ]
  },
  {
   "cell_type": "code",
   "execution_count": 99,
   "metadata": {},
   "outputs": [],
   "source": [
    "def back_substitution(mat, b):                           \n",
    "    \"\"\"                                                    \n",
    "    Apply back substitution to an upper triangular matrix A\n",
    "    and return the vector x in the matrix equation Ax = b  \n",
    "    \"\"\"                                                    \n",
    "    N = len(mat[0])                                      \n",
    "    x = np.zeros(N)                                        \n",
    "    for i in reversed(range(N)):                           \n",
    "        sum = 0                                            \n",
    "        for j in range(i+1,N):                             \n",
    "            sum += mat[i,j]*x[j]                         \n",
    "        x[i] = (b[i] - sum)/mat[i,i]                     \n",
    "    return x                                               \n"
   ]
  }
 ],
 "metadata": {
  "kernelspec": {
   "display_name": "Python 3",
   "language": "python",
   "name": "python3"
  },
  "language_info": {
   "codemirror_mode": {
    "name": "ipython",
    "version": 3
   },
   "file_extension": ".py",
   "mimetype": "text/x-python",
   "name": "python",
   "nbconvert_exporter": "python",
   "pygments_lexer": "ipython3",
   "version": "3.6.7"
  }
 },
 "nbformat": 4,
 "nbformat_minor": 2
}
